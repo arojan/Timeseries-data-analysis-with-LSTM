{
 "cells": [
  {
   "cell_type": "code",
   "execution_count": 1,
   "metadata": {},
   "outputs": [],
   "source": [
    "#!/usr/bin/env python\n",
    "# coding: utf-8\n",
    "\n",
    "# Disabling any minor warmings and logs\n",
    "import warnings\n",
    "warnings.filterwarnings(\"ignore\")"
   ]
  },
  {
   "cell_type": "code",
   "execution_count": 2,
   "metadata": {},
   "outputs": [
    {
     "name": "stderr",
     "output_type": "stream",
     "text": [
      "Using TensorFlow backend.\n"
     ]
    }
   ],
   "source": [
    "import h5py\n",
    "import numpy as np\n",
    "from numpy import concatenate\n",
    "\n",
    "import pandas as pd\n",
    "from pandas import read_csv, concat, DataFrame\n",
    "\n",
    "from math import sqrt\n",
    "import tensorflow as tf\n",
    "from matplotlib import pyplot\n",
    "from datetime import datetime\n",
    "\n",
    "from sklearn.preprocessing import MinMaxScaler, LabelEncoder\n",
    "from sklearn.metrics import mean_squared_error\n",
    "\n",
    "from keras import callbacks\n",
    "from keras.models import Sequential \n",
    "from keras.layers import Dense, Dropout, Conv1D, LSTM, GRU\n",
    "from keras.callbacks import ModelCheckpoint, CSVLogger"
   ]
  },
  {
   "cell_type": "code",
   "execution_count": 3,
   "metadata": {},
   "outputs": [],
   "source": [
    "dataset = read_csv(\"power_consumption.csv\",\n",
    "                   parse_dates={'dt' : ['Date', 'Time']},\n",
    "                   infer_datetime_format=True, \n",
    "                   index_col= 0,\n",
    "                   na_values=['nan','?'])\n",
    "dataset.fillna(0, inplace=True)\n",
    "values = dataset.values\n",
    "values = values.astype('float32')"
   ]
  },
  {
   "cell_type": "code",
   "execution_count": 4,
   "metadata": {},
   "outputs": [
    {
     "name": "stdout",
     "output_type": "stream",
     "text": [
      "                     Global_active_power  Global_reactive_power  Voltage  \\\n",
      "dt                                                                         \n",
      "2006-12-16 17:24:00                4.216                  0.418   234.84   \n",
      "2006-12-16 17:25:00                5.360                  0.436   233.63   \n",
      "2006-12-16 17:26:00                5.374                  0.498   233.29   \n",
      "\n",
      "                     Global_intensity  Sub_metering_1  Sub_metering_2  \\\n",
      "dt                                                                      \n",
      "2006-12-16 17:24:00              18.4             0.0             1.0   \n",
      "2006-12-16 17:25:00              23.0             0.0             1.0   \n",
      "2006-12-16 17:26:00              23.0             0.0             2.0   \n",
      "\n",
      "                     Sub_metering_3  \n",
      "dt                                   \n",
      "2006-12-16 17:24:00            17.0  \n",
      "2006-12-16 17:25:00            16.0  \n",
      "2006-12-16 17:26:00            17.0  \n"
     ]
    }
   ],
   "source": [
    "print(dataset.head(3))"
   ]
  },
  {
   "cell_type": "code",
   "execution_count": 5,
   "metadata": {},
   "outputs": [],
   "source": [
    "# normalizing input features\n",
    "scaler = MinMaxScaler(feature_range=(0, 1))\n",
    "scaled = scaler.fit_transform(values)\n",
    "scaled = pd.DataFrame(scaled)"
   ]
  },
  {
   "cell_type": "code",
   "execution_count": 6,
   "metadata": {},
   "outputs": [
    {
     "name": "stdout",
     "output_type": "stream",
     "text": [
      "          0         1         2         3    4         5     6\n",
      "0  0.389173  0.478261  0.402339  0.391304  0.0  0.012821  0.85\n",
      "1  0.497445  0.498856  0.359447  0.491304  0.0  0.012821  0.80\n",
      "2  0.498770  0.569794  0.347394  0.491304  0.0  0.025641  0.85\n"
     ]
    }
   ],
   "source": [
    "print(scaled.head(3))"
   ]
  },
  {
   "cell_type": "code",
   "execution_count": 7,
   "metadata": {},
   "outputs": [],
   "source": [
    "def create_ts_data(dataset, lookback=1, predicted_col=1):\n",
    "    temp=dataset.copy()\n",
    "    temp[\"id\"]= range(1, len(temp)+1)\n",
    "    temp = temp.iloc[:-lookback, :]\n",
    "    temp.set_index('id', inplace =True)\n",
    "    predicted_value=dataset.copy()\n",
    "    predicted_value = predicted_value.iloc[lookback:,predicted_col]\n",
    "    predicted_value.columns=[\"Predcited\"]\n",
    "    predicted_value= pd.DataFrame(predicted_value)\n",
    "    \n",
    "    predicted_value[\"id\"]= range(1, len(predicted_value)+1)\n",
    "    predicted_value.set_index('id', inplace =True)\n",
    "    final_df= pd.concat([temp, predicted_value], axis=1)\n",
    "    return final_df"
   ]
  },
  {
   "cell_type": "code",
   "execution_count": 8,
   "metadata": {},
   "outputs": [],
   "source": [
    "reframed_df= create_ts_data(scaled, 1,0)\n",
    "reframed_df.fillna(0, inplace=True)\n",
    "reframed_df.columns = ['var1(t-1)', 'var2(t-1)', 'var3(t-1)', 'var4(t-1)', 'var5(t-1)', 'var6(t-1)', 'var7(t-1)','var1(t)']"
   ]
  },
  {
   "cell_type": "code",
   "execution_count": 9,
   "metadata": {},
   "outputs": [
    {
     "name": "stdout",
     "output_type": "stream",
     "text": [
      "    var1(t-1)  var2(t-1)  var3(t-1)  var4(t-1)  var5(t-1)  var6(t-1)  \\\n",
      "id                                                                     \n",
      "1    0.389173   0.478261   0.402339   0.391304        0.0   0.012821   \n",
      "2    0.497445   0.498856   0.359447   0.491304        0.0   0.012821   \n",
      "3    0.498770   0.569794   0.347394   0.491304        0.0   0.025641   \n",
      "4    0.500095   0.574371   0.363347   0.491304        0.0   0.012821   \n",
      "\n",
      "    var7(t-1)   var1(t)  \n",
      "id                       \n",
      "1        0.85  0.497445  \n",
      "2        0.80  0.498770  \n",
      "3        0.85  0.500095  \n",
      "4        0.85  0.337119  \n"
     ]
    }
   ],
   "source": [
    "print(reframed_df.head(4))"
   ]
  },
  {
   "cell_type": "code",
   "execution_count": 10,
   "metadata": {},
   "outputs": [],
   "source": [
    "# split into train and test sets\n",
    "values = reframed_df.values\n",
    "training_sample =int( len(dataset) *0.7)\n",
    "train = values[:training_sample, :]\n",
    "test = values[training_sample:, :]"
   ]
  },
  {
   "cell_type": "code",
   "execution_count": 11,
   "metadata": {},
   "outputs": [],
   "source": [
    "# split into input and outputs\n",
    "train_X, train_y = train[:, :-1], train[:, -1]\n",
    "test_X, test_y = test[:, :-1], test[:, -1]"
   ]
  },
  {
   "cell_type": "code",
   "execution_count": 12,
   "metadata": {},
   "outputs": [],
   "source": [
    "# reshape input to be 3D [samples, time steps, features]\n",
    "train_X = train_X.reshape((train_X.shape[0], 1, train_X.shape[1]))\n",
    "test_X = test_X.reshape((test_X.shape[0], 1, test_X.shape[1]))"
   ]
  },
  {
   "cell_type": "code",
   "execution_count": 13,
   "metadata": {},
   "outputs": [
    {
     "name": "stdout",
     "output_type": "stream",
     "text": [
      "(133347, 1, 7) (133347,) (57149, 1, 7) (57149,)\n"
     ]
    }
   ],
   "source": [
    "print(train_X.shape, train_y.shape, test_X.shape, test_y.shape)"
   ]
  },
  {
   "cell_type": "code",
   "execution_count": 14,
   "metadata": {},
   "outputs": [
    {
     "name": "stderr",
     "output_type": "stream",
     "text": [
      "WARNING: Logging before flag parsing goes to stderr.\n",
      "W0828 10:24:12.404101 140476860671616 deprecation_wrapper.py:119] From /usr/lib/python3.7/site-packages/keras/backend/tensorflow_backend.py:66: The name tf.get_default_graph is deprecated. Please use tf.compat.v1.get_default_graph instead.\n",
      "\n",
      "W0828 10:24:12.460202 140476860671616 deprecation_wrapper.py:119] From /usr/lib/python3.7/site-packages/keras/backend/tensorflow_backend.py:541: The name tf.placeholder is deprecated. Please use tf.compat.v1.placeholder instead.\n",
      "\n",
      "W0828 10:24:12.469505 140476860671616 deprecation_wrapper.py:119] From /usr/lib/python3.7/site-packages/keras/backend/tensorflow_backend.py:4432: The name tf.random_uniform is deprecated. Please use tf.random.uniform instead.\n",
      "\n",
      "W0828 10:24:13.273775 140476860671616 deprecation_wrapper.py:119] From /usr/lib/python3.7/site-packages/keras/backend/tensorflow_backend.py:148: The name tf.placeholder_with_default is deprecated. Please use tf.compat.v1.placeholder_with_default instead.\n",
      "\n",
      "W0828 10:24:13.288887 140476860671616 deprecation.py:506] From /usr/lib/python3.7/site-packages/keras/backend/tensorflow_backend.py:3733: calling dropout (from tensorflow.python.ops.nn_ops) with keep_prob is deprecated and will be removed in a future version.\n",
      "Instructions for updating:\n",
      "Please use `rate` instead of `keep_prob`. Rate should be set to `rate = 1 - keep_prob`.\n",
      "W0828 10:24:14.359676 140476860671616 deprecation_wrapper.py:119] From /usr/lib/python3.7/site-packages/keras/optimizers.py:793: The name tf.train.Optimizer is deprecated. Please use tf.compat.v1.train.Optimizer instead.\n",
      "\n"
     ]
    }
   ],
   "source": [
    "model = Sequential()\n",
    "model.add(LSTM(80, return_sequences=True, input_shape=(train_X.shape[1], train_X.shape[2])))\n",
    "model.add(LSTM(units=100, return_sequences=True))\n",
    "model.add(LSTM(units=120, return_sequences=True))\n",
    "model.add(Dropout(0.1))\n",
    "model.add(LSTM(units=120, return_sequences=True))\n",
    "model.add(LSTM(units=80, return_sequences=True))\n",
    "model.add(Dropout(0.1))\n",
    "model.add(LSTM(units=40))\n",
    "model.add(Dense(units=1))\n",
    "model.compile(loss='mae', optimizer='adam')"
   ]
  },
  {
   "cell_type": "code",
   "execution_count": 15,
   "metadata": {},
   "outputs": [
    {
     "name": "stdout",
     "output_type": "stream",
     "text": [
      "Model: \"sequential_1\"\n",
      "_________________________________________________________________\n",
      "Layer (type)                 Output Shape              Param #   \n",
      "=================================================================\n",
      "lstm_1 (LSTM)                (None, 1, 80)             28160     \n",
      "_________________________________________________________________\n",
      "lstm_2 (LSTM)                (None, 1, 100)            72400     \n",
      "_________________________________________________________________\n",
      "lstm_3 (LSTM)                (None, 1, 120)            106080    \n",
      "_________________________________________________________________\n",
      "dropout_1 (Dropout)          (None, 1, 120)            0         \n",
      "_________________________________________________________________\n",
      "lstm_4 (LSTM)                (None, 1, 120)            115680    \n",
      "_________________________________________________________________\n",
      "lstm_5 (LSTM)                (None, 1, 80)             64320     \n",
      "_________________________________________________________________\n",
      "dropout_2 (Dropout)          (None, 1, 80)             0         \n",
      "_________________________________________________________________\n",
      "lstm_6 (LSTM)                (None, 40)                19360     \n",
      "_________________________________________________________________\n",
      "dense_1 (Dense)              (None, 1)                 41        \n",
      "=================================================================\n",
      "Total params: 406,041\n",
      "Trainable params: 406,041\n",
      "Non-trainable params: 0\n",
      "_________________________________________________________________\n"
     ]
    }
   ],
   "source": [
    "model.summary()"
   ]
  },
  {
   "cell_type": "code",
   "execution_count": 16,
   "metadata": {},
   "outputs": [],
   "source": [
    "checkpointer = callbacks.ModelCheckpoint(filepath=\"Model/checkpoint-{epoch:02d}.hdf5\", verbose=1, save_best_only=True, monitor='val_acc',mode='max')\n",
    "csv_logger = CSVLogger('Model/model.csv',separator=',', append=False)"
   ]
  },
  {
   "cell_type": "code",
   "execution_count": 17,
   "metadata": {},
   "outputs": [
    {
     "name": "stderr",
     "output_type": "stream",
     "text": [
      "W0828 10:24:15.344160 140476860671616 deprecation.py:323] From /usr/lib/python3.7/site-packages/tensorflow/python/ops/math_grad.py:1250: add_dispatch_support.<locals>.wrapper (from tensorflow.python.ops.array_ops) is deprecated and will be removed in a future version.\n",
      "Instructions for updating:\n",
      "Use tf.where in 2.0, which has the same broadcast rule as np.where\n",
      "W0828 10:24:20.574129 140476860671616 deprecation_wrapper.py:119] From /usr/lib/python3.7/site-packages/keras/backend/tensorflow_backend.py:1033: The name tf.assign_add is deprecated. Please use tf.compat.v1.assign_add instead.\n",
      "\n"
     ]
    },
    {
     "name": "stdout",
     "output_type": "stream",
     "text": [
      "Train on 133347 samples, validate on 57149 samples\n",
      "Epoch 1/80\n",
      "133347/133347 [==============================] - 53s 400us/step - loss: 0.0433 - val_loss: 0.0155\n",
      "Epoch 2/80\n",
      "133347/133347 [==============================] - 53s 397us/step - loss: 0.0218 - val_loss: 0.0156\n",
      "Epoch 3/80\n",
      "133347/133347 [==============================] - 34s 255us/step - loss: 0.0203 - val_loss: 0.0178\n",
      "Epoch 4/80\n",
      "133347/133347 [==============================] - 34s 254us/step - loss: 0.0191 - val_loss: 0.0114\n",
      "Epoch 5/80\n",
      "133347/133347 [==============================] - 41s 306us/step - loss: 0.0188 - val_loss: 0.0158\n",
      "Epoch 6/80\n",
      "133347/133347 [==============================] - 53s 398us/step - loss: 0.0187 - val_loss: 0.0107\n",
      "Epoch 7/80\n",
      "133347/133347 [==============================] - 35s 266us/step - loss: 0.0176 - val_loss: 0.0124\n",
      "Epoch 8/80\n",
      "133347/133347 [==============================] - 31s 233us/step - loss: 0.0185 - val_loss: 0.0119\n",
      "Epoch 9/80\n",
      "133347/133347 [==============================] - 32s 236us/step - loss: 0.0177 - val_loss: 0.0109\n",
      "Epoch 10/80\n",
      "133347/133347 [==============================] - 31s 232us/step - loss: 0.0178 - val_loss: 0.0115\n",
      "Epoch 11/80\n",
      "133347/133347 [==============================] - 31s 233us/step - loss: 0.0175 - val_loss: 0.0120\n",
      "Epoch 12/80\n",
      "133347/133347 [==============================] - 31s 233us/step - loss: 0.0170 - val_loss: 0.0111\n",
      "Epoch 13/80\n",
      "133347/133347 [==============================] - 31s 232us/step - loss: 0.0164 - val_loss: 0.0111\n",
      "Epoch 14/80\n",
      "133347/133347 [==============================] - 31s 233us/step - loss: 0.0164 - val_loss: 0.0098\n",
      "Epoch 15/80\n",
      "133347/133347 [==============================] - 31s 233us/step - loss: 0.0161 - val_loss: 0.0103\n",
      "Epoch 16/80\n",
      "133347/133347 [==============================] - 31s 235us/step - loss: 0.0162 - val_loss: 0.0102\n",
      "Epoch 17/80\n",
      "133347/133347 [==============================] - 31s 234us/step - loss: 0.0157 - val_loss: 0.0098\n",
      "Epoch 18/80\n",
      "133347/133347 [==============================] - 32s 237us/step - loss: 0.0157 - val_loss: 0.0091\n",
      "Epoch 19/80\n",
      "133347/133347 [==============================] - 31s 233us/step - loss: 0.0156 - val_loss: 0.0095\n",
      "Epoch 20/80\n",
      "133347/133347 [==============================] - 31s 232us/step - loss: 0.0155 - val_loss: 0.0087\n",
      "Epoch 21/80\n",
      "133347/133347 [==============================] - 31s 231us/step - loss: 0.0154 - val_loss: 0.0097\n",
      "Epoch 22/80\n",
      "133347/133347 [==============================] - 31s 232us/step - loss: 0.0154 - val_loss: 0.0090\n",
      "Epoch 23/80\n",
      "133347/133347 [==============================] - 31s 232us/step - loss: 0.0152 - val_loss: 0.0088\n",
      "Epoch 24/80\n",
      "133347/133347 [==============================] - 31s 232us/step - loss: 0.0154 - val_loss: 0.0109\n",
      "Epoch 25/80\n",
      "133347/133347 [==============================] - 31s 231us/step - loss: 0.0152 - val_loss: 0.0099\n",
      "Epoch 26/80\n",
      "133347/133347 [==============================] - 31s 232us/step - loss: 0.0151 - val_loss: 0.0096\n",
      "Epoch 27/80\n",
      "133347/133347 [==============================] - 31s 231us/step - loss: 0.0154 - val_loss: 0.0085\n",
      "Epoch 28/80\n",
      "133347/133347 [==============================] - 31s 231us/step - loss: 0.0150 - val_loss: 0.0093\n",
      "Epoch 29/80\n",
      "133347/133347 [==============================] - 31s 231us/step - loss: 0.0150 - val_loss: 0.0087\n",
      "Epoch 30/80\n",
      "133347/133347 [==============================] - 31s 232us/step - loss: 0.0149 - val_loss: 0.0087\n",
      "Epoch 31/80\n",
      "133347/133347 [==============================] - 31s 232us/step - loss: 0.0148 - val_loss: 0.0091\n",
      "Epoch 32/80\n",
      "133347/133347 [==============================] - 31s 231us/step - loss: 0.0149 - val_loss: 0.0092\n",
      "Epoch 33/80\n",
      "133347/133347 [==============================] - 31s 234us/step - loss: 0.0150 - val_loss: 0.0084\n",
      "Epoch 34/80\n",
      "133347/133347 [==============================] - 31s 232us/step - loss: 0.0150 - val_loss: 0.0087\n",
      "Epoch 35/80\n",
      "133347/133347 [==============================] - 31s 231us/step - loss: 0.0147 - val_loss: 0.0090\n",
      "Epoch 36/80\n",
      "133347/133347 [==============================] - 31s 231us/step - loss: 0.0146 - val_loss: 0.0085\n",
      "Epoch 37/80\n",
      "133347/133347 [==============================] - 31s 231us/step - loss: 0.0149 - val_loss: 0.0086\n",
      "Epoch 38/80\n",
      "133347/133347 [==============================] - 31s 232us/step - loss: 0.0148 - val_loss: 0.0086\n",
      "Epoch 39/80\n",
      "133347/133347 [==============================] - 31s 231us/step - loss: 0.0147 - val_loss: 0.0090\n",
      "Epoch 40/80\n",
      "133347/133347 [==============================] - 31s 231us/step - loss: 0.0148 - val_loss: 0.0088\n",
      "Epoch 41/80\n",
      "133347/133347 [==============================] - 31s 231us/step - loss: 0.0147 - val_loss: 0.0086\n",
      "Epoch 42/80\n",
      "133347/133347 [==============================] - 31s 232us/step - loss: 0.0147 - val_loss: 0.0085\n",
      "Epoch 43/80\n",
      "133347/133347 [==============================] - 31s 231us/step - loss: 0.0146 - val_loss: 0.0085\n",
      "Epoch 44/80\n",
      "133347/133347 [==============================] - 31s 232us/step - loss: 0.0145 - val_loss: 0.0086\n",
      "Epoch 45/80\n",
      "133347/133347 [==============================] - 31s 231us/step - loss: 0.0147 - val_loss: 0.0083\n",
      "Epoch 46/80\n",
      "133347/133347 [==============================] - 31s 232us/step - loss: 0.0144 - val_loss: 0.0085\n",
      "Epoch 47/80\n",
      "133347/133347 [==============================] - 31s 232us/step - loss: 0.0145 - val_loss: 0.0086\n",
      "Epoch 48/80\n",
      "133347/133347 [==============================] - 31s 232us/step - loss: 0.0144 - val_loss: 0.0084\n",
      "Epoch 49/80\n",
      "133347/133347 [==============================] - 31s 231us/step - loss: 0.0144 - val_loss: 0.0091\n",
      "Epoch 50/80\n",
      "133347/133347 [==============================] - 31s 232us/step - loss: 0.0146 - val_loss: 0.0089\n",
      "Epoch 51/80\n",
      "133347/133347 [==============================] - 31s 232us/step - loss: 0.0144 - val_loss: 0.0089\n",
      "Epoch 52/80\n",
      "133347/133347 [==============================] - 31s 231us/step - loss: 0.0145 - val_loss: 0.0087\n",
      "Epoch 53/80\n",
      "133347/133347 [==============================] - 31s 232us/step - loss: 0.0144 - val_loss: 0.0089\n",
      "Epoch 54/80\n",
      "133347/133347 [==============================] - 31s 232us/step - loss: 0.0144 - val_loss: 0.0086\n",
      "Epoch 55/80\n",
      "133347/133347 [==============================] - 38s 284us/step - loss: 0.0142 - val_loss: 0.0089\n",
      "Epoch 56/80\n",
      "133347/133347 [==============================] - 43s 321us/step - loss: 0.0144 - val_loss: 0.0092\n",
      "Epoch 57/80\n",
      "133347/133347 [==============================] - 44s 331us/step - loss: 0.0143 - val_loss: 0.0092\n",
      "Epoch 58/80\n",
      "133347/133347 [==============================] - 52s 390us/step - loss: 0.0142 - val_loss: 0.0084\n",
      "Epoch 59/80\n",
      "133347/133347 [==============================] - 44s 327us/step - loss: 0.0143 - val_loss: 0.0088\n",
      "Epoch 60/80\n",
      "133347/133347 [==============================] - 33s 251us/step - loss: 0.0142 - val_loss: 0.0089\n",
      "Epoch 61/80\n",
      "133347/133347 [==============================] - 39s 292us/step - loss: 0.0142 - val_loss: 0.0086\n",
      "Epoch 62/80\n",
      "133347/133347 [==============================] - 47s 351us/step - loss: 0.0142 - val_loss: 0.0085\n",
      "Epoch 63/80\n",
      "133347/133347 [==============================] - 41s 309us/step - loss: 0.0142 - val_loss: 0.0084\n",
      "Epoch 64/80\n",
      "133347/133347 [==============================] - 42s 318us/step - loss: 0.0143 - val_loss: 0.0086\n",
      "Epoch 65/80\n",
      "133347/133347 [==============================] - 48s 360us/step - loss: 0.0140 - val_loss: 0.0086\n",
      "Epoch 66/80\n",
      "133347/133347 [==============================] - 37s 278us/step - loss: 0.0141 - val_loss: 0.0086\n",
      "Epoch 67/80\n",
      "133347/133347 [==============================] - 34s 258us/step - loss: 0.0141 - val_loss: 0.0088\n",
      "Epoch 68/80\n",
      "133347/133347 [==============================] - 34s 252us/step - loss: 0.0140 - val_loss: 0.0088\n",
      "Epoch 69/80\n",
      "133347/133347 [==============================] - 35s 259us/step - loss: 0.0141 - val_loss: 0.0085\n",
      "Epoch 70/80\n",
      "133347/133347 [==============================] - 43s 322us/step - loss: 0.0140 - val_loss: 0.0086\n",
      "Epoch 71/80\n",
      "133347/133347 [==============================] - 39s 294us/step - loss: 0.0140 - val_loss: 0.0093\n",
      "Epoch 72/80\n",
      "133347/133347 [==============================] - 36s 270us/step - loss: 0.0141 - val_loss: 0.0085\n",
      "Epoch 73/80\n",
      "133347/133347 [==============================] - 40s 299us/step - loss: 0.0140 - val_loss: 0.0084\n",
      "Epoch 74/80\n",
      "133347/133347 [==============================] - 51s 381us/step - loss: 0.0139 - val_loss: 0.0084\n",
      "Epoch 75/80\n"
     ]
    },
    {
     "name": "stdout",
     "output_type": "stream",
     "text": [
      "133347/133347 [==============================] - 42s 318us/step - loss: 0.0140 - val_loss: 0.0084\n",
      "Epoch 76/80\n",
      "133347/133347 [==============================] - 41s 308us/step - loss: 0.0140 - val_loss: 0.0082\n",
      "Epoch 77/80\n",
      "133347/133347 [==============================] - 44s 331us/step - loss: 0.0139 - val_loss: 0.0085\n",
      "Epoch 78/80\n",
      "133347/133347 [==============================] - 45s 340us/step - loss: 0.0139 - val_loss: 0.0082\n",
      "Epoch 79/80\n",
      "133347/133347 [==============================] - 40s 301us/step - loss: 0.0140 - val_loss: 0.0085\n",
      "Epoch 80/80\n",
      "133347/133347 [==============================] - 41s 306us/step - loss: 0.0140 - val_loss: 0.0086\n"
     ]
    }
   ],
   "source": [
    "# fit network\n",
    "model_= model.fit(train_X, train_y, epochs=80, batch_size=64, \n",
    "                              validation_data=(test_X, test_y), shuffle=False,\n",
    "                                     callbacks=[checkpointer,csv_logger])"
   ]
  },
  {
   "cell_type": "code",
   "execution_count": 18,
   "metadata": {},
   "outputs": [
    {
     "name": "stdout",
     "output_type": "stream",
     "text": [
      "Final model saved successfully!\n"
     ]
    }
   ],
   "source": [
    "model.save(\"Model/model.hdf5\")\n",
    "print(\"Final model saved successfully!\")"
   ]
  },
  {
   "cell_type": "code",
   "execution_count": 19,
   "metadata": {},
   "outputs": [
    {
     "data": {
      "image/png": "[encoded data removed]",
      "text/plain": [
       "<Figure size 432x288 with 1 Axes>"
      ]
     },
     "metadata": {
      "needs_background": "light"
     },
     "output_type": "display_data"
    }
   ],
   "source": [
    "pyplot.plot(model_.history['loss'], label='LSTM training', color='red')\n",
    "pyplot.plot(model_.history['val_loss'], label='LSTM testing', color= 'blue')\n",
    "pyplot.legend()\n",
    "pyplot.savefig(fname='Graph/LSTM loss chart.png', dpi = 400)\n",
    "pyplot.show()"
   ]
  }
 ],
 "metadata": {
  "kernelspec": {
   "display_name": "Python 3",
   "language": "python",
   "name": "python3"
  },
  "language_info": {
   "codemirror_mode": {
    "name": "ipython",
    "version": 3
   },
   "file_extension": ".py",
   "mimetype": "text/x-python",
   "name": "python",
   "nbconvert_exporter": "python",
   "pygments_lexer": "ipython3",
   "version": "3.7.4"
  }
 },
 "nbformat": 4,
 "nbformat_minor": 2
}
